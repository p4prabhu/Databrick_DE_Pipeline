{
 "cells": [
  {
   "cell_type": "code",
   "execution_count": 0,
   "metadata": {
    "application/vnd.databricks.v1+cell": {
     "cellMetadata": {
      "byteLimit": 2048000,
      "implicitDf": true,
      "rowLimit": 10000
     },
     "inputWidgets": {},
     "nuid": "7332e78d-8952-4030-8e44-a32a934879cb",
     "showTitle": false,
     "tableResultSettingsMap": {},
     "title": ""
    }
   },
   "outputs": [],
   "source": [
    "CREATE STREAMING LIVE TABLE sales\n",
    "AS SELECT *, current_timestamp() as ingestion_date FROM cloud_files(\"/Volumes/prabhatdb/raw_ecom/sales\", \"csv\");"
   ]
  },
  {
   "cell_type": "code",
   "execution_count": 0,
   "metadata": {
    "application/vnd.databricks.v1+cell": {
     "cellMetadata": {},
     "inputWidgets": {},
     "nuid": "95d88aaa-73c2-4789-ba5a-95d4cc2b27fe",
     "showTitle": false,
     "tableResultSettingsMap": {},
     "title": ""
    }
   },
   "outputs": [],
   "source": [
    "create streaming table sales_silver\n",
    "(\n",
    "  constraint valid_order_id expect (order_id IS NOT NULL) on violation drop row\n",
    ")\n",
    "as\n",
    "select distinct * from STREAM(Live.sales) "
   ]
  },
  {
   "cell_type": "code",
   "execution_count": 0,
   "metadata": {
    "application/vnd.databricks.v1+cell": {
     "cellMetadata": {},
     "inputWidgets": {},
     "nuid": "c8f87eb5-5c56-4f83-ad84-6fa5adb1db87",
     "showTitle": false,
     "tableResultSettingsMap": {},
     "title": ""
    }
   },
   "outputs": [],
   "source": [
    "CREATE STREAMING LIVE TABLE customers\n",
    "AS SELECT *, current_timestamp() as ingestion_date FROM cloud_files(\"/Volumes/prabhatdb/raw_ecom/customers\", \"csv\");"
   ]
  },
  {
   "cell_type": "code",
   "execution_count": 0,
   "metadata": {
    "application/vnd.databricks.v1+cell": {
     "cellMetadata": {},
     "inputWidgets": {},
     "nuid": "0e42ae98-b1b6-4b8a-bc78-2b232cbd6ea0",
     "showTitle": false,
     "tableResultSettingsMap": {},
     "title": ""
    }
   },
   "outputs": [],
   "source": [
    "CREATE OR REFRESH STREAMING TABLE customer_silver;\n",
    "\n",
    "APPLY CHANGES INTO\n",
    "  live.customer_silver\n",
    "FROM\n",
    "  stream(LIve.customers)\n",
    "KEYS\n",
    "  (customer_id)\n",
    "APPLY AS DELETE WHEN\n",
    "  operation = \"DELETE\"\n",
    "SEQUENCE BY\n",
    "  sequenceNum\n",
    "COLUMNS * EXCEPT\n",
    "  (operation,sequenceNum ,_rescued_data,ingestion_date\n",
    ")\n",
    "STORED AS\n",
    "  SCD TYPE 2;"
   ]
  },
  {
   "cell_type": "code",
   "execution_count": 0,
   "metadata": {
    "application/vnd.databricks.v1+cell": {
     "cellMetadata": {},
     "inputWidgets": {},
     "nuid": "fee4ff6a-d5ae-4b71-a0c5-0db9178ffa8e",
     "showTitle": false,
     "tableResultSettingsMap": {},
     "title": ""
    }
   },
   "outputs": [],
   "source": [
    "create streaming table customer_silver_active as \n",
    "select customer_id,customer_name,customer_email,customer_city,customer_state from STREAM(live.customer_silver) where `__END_AT` is null"
   ]
  },
  {
   "cell_type": "code",
   "execution_count": 0,
   "metadata": {
    "application/vnd.databricks.v1+cell": {
     "cellMetadata": {},
     "inputWidgets": {},
     "nuid": "9f8f3d8d-6342-4954-b3ee-132ce3d884ec",
     "showTitle": false,
     "tableResultSettingsMap": {},
     "title": ""
    }
   },
   "outputs": [],
   "source": [
    "CREATE STREAMING LIVE TABLE products\n",
    "AS SELECT *, current_timestamp() as ingestion_date FROM cloud_files(\"/Volumes/prabhatdb/raw_ecom/products\", \"csv\");"
   ]
  },
  {
   "cell_type": "code",
   "execution_count": 0,
   "metadata": {
    "application/vnd.databricks.v1+cell": {
     "cellMetadata": {},
     "inputWidgets": {},
     "nuid": "7eba9ee7-b036-4721-bd06-0b9bb7d2959e",
     "showTitle": false,
     "tableResultSettingsMap": {},
     "title": ""
    }
   },
   "outputs": [],
   "source": [
    "CREATE OR REFRESH STREAMING TABLE product_silver;\n",
    "\n",
    "APPLY CHANGES INTO\n",
    "  live.product_silver\n",
    "FROM\n",
    "  stream(LIve.products)\n",
    "KEYS\n",
    "  (product_id)\n",
    "APPLY AS DELETE WHEN\n",
    "  operation = \"DELETE\"\n",
    "SEQUENCE BY\n",
    "  seqNum\n",
    "COLUMNS * EXCEPT\n",
    "  (operation,seqNum ,_rescued_data,ingestion_date\n",
    ")\n",
    "STORED AS\n",
    "  SCD TYPE 1;"
   ]
  },
  {
   "cell_type": "code",
   "execution_count": 0,
   "metadata": {
    "application/vnd.databricks.v1+cell": {
     "cellMetadata": {},
     "inputWidgets": {},
     "nuid": "cf9f8c5b-55e4-477b-9528-1ef48d0f5ce5",
     "showTitle": false,
     "tableResultSettingsMap": {},
     "title": ""
    }
   },
   "outputs": [],
   "source": [
    "create live table total_sales_customer as \n",
    "SELECT \n",
    "    c.customer_id,\n",
    "    c.customer_name,\n",
    "    round(SUM(s.total_amount)) AS total_sales,\n",
    "    SUM(s.discount_amount) AS total_discount\n",
    "FROM LIVE.sales_silver s\n",
    "JOIN LIVE.customer_silver_active c\n",
    "    ON s.customer_id = c.customer_id\n",
    "GROUP BY c.customer_id, c.customer_name\n",
    "ORDER BY total_sales DESC;"
   ]
  },
  {
   "cell_type": "code",
   "execution_count": 0,
   "metadata": {
    "application/vnd.databricks.v1+cell": {
     "cellMetadata": {},
     "inputWidgets": {},
     "nuid": "a9801c9f-2014-479f-8340-742e5a63ef44",
     "showTitle": false,
     "tableResultSettingsMap": {},
     "title": ""
    }
   },
   "outputs": [],
   "source": [
    "create live table total_sales_category as\n",
    "SELECT \n",
    "    p.product_category,\n",
    "    round(SUM(s.total_amount)) AS total_sales\n",
    "FROM LIVE.sales_silver s\n",
    "JOIN live.product_silver p\n",
    "    ON s.product_id = p.product_id\n",
    "GROUP BY p.product_category\n",
    "ORDER BY total_sales DESC;"
   ]
  }
 ],
 "metadata": {
  "application/vnd.databricks.v1+notebook": {
   "computePreferences": null,
   "dashboards": [],
   "environmentMetadata": {
    "base_environment": "",
    "environment_version": "2"
   },
   "inputWidgetPreferences": null,
   "language": "sql",
   "notebookMetadata": {
    "mostRecentlyExecutedCommandWithImplicitDF": {
     "commandId": -1,
     "dataframes": [
      "_sqldf"
     ]
    },
    "pythonIndentUnit": 4
   },
   "notebookName": "dlt",
   "widgets": {}
  },
  "language_info": {
   "name": "sql"
  }
 },
 "nbformat": 4,
 "nbformat_minor": 0
}
